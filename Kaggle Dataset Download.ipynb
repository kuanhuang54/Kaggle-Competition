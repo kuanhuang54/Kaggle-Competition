{
 "cells": [
  {
   "cell_type": "markdown",
   "id": "d9a08abe",
   "metadata": {},
   "source": [
    "# Download Dataset from Kaggle"
   ]
  },
  {
   "cell_type": "markdown",
   "id": "7899bcd9",
   "metadata": {},
   "source": [
    "## To Jupyter Notebook"
   ]
  },
  {
   "cell_type": "markdown",
   "id": "35263d49",
   "metadata": {},
   "source": [
    "On entering the username, it will prompt for Kaggle Key. Again, go to the account tab of the **My Profile** section and click on **Create New API Token**. This will download a **kaggle.json** file.\n"
   ]
  },
  {
   "cell_type": "code",
   "execution_count": null,
   "id": "77080226",
   "metadata": {},
   "outputs": [],
   "source": [
    "# Download data set from Kaggle\n",
    "!pip install opendatasets\n",
    "import opendatasets as od\n",
    "\n",
    "od.download(\"https://www.kaggle.com/competitions/quora-question-pairs/data\")"
   ]
  },
  {
   "cell_type": "code",
   "execution_count": null,
   "id": "6886773e",
   "metadata": {},
   "outputs": [],
   "source": [
    "# Unzip Dataset\n",
    "import zipfile\n",
    "with zipfile.ZipFile('file.zip', 'r') as zip_ref:\n",
    "    zip_ref.extractall('dir-you-want-unzip-to/')"
   ]
  },
  {
   "cell_type": "markdown",
   "id": "380950af",
   "metadata": {},
   "source": [
    "## To Google Colab"
   ]
  },
  {
   "cell_type": "markdown",
   "id": "ee3351e4",
   "metadata": {},
   "source": [
    "Upload the **kaggle.json** file to download"
   ]
  },
  {
   "cell_type": "code",
   "execution_count": null,
   "id": "c9eb3859",
   "metadata": {},
   "outputs": [],
   "source": [
    "from google.colab import files\n",
    "\n",
    "uploaded = files.upload()\n",
    "\n",
    "for fn in uploaded.keys():\n",
    "  print('User uploaded file \"{name}\" with length {length} bytes'.format(\n",
    "      name=fn, length=len(uploaded[fn])))\n",
    "  \n",
    "# Then move kaggle.json into the folder where the API expects to find it.\n",
    "!mkdir -p ~/.kaggle/ && mv kaggle.json ~/.kaggle/ && chmod 600 ~/.kaggle/kaggle.json"
   ]
  },
  {
   "cell_type": "code",
   "execution_count": null,
   "id": "a4fc776f",
   "metadata": {},
   "outputs": [],
   "source": [
    "# Download data set from Kaggle\n",
    "! kaggle competitions download competition-name -f train.csv\n",
    "! kaggle competitions download competition-name -f test.csv"
   ]
  },
  {
   "cell_type": "code",
   "execution_count": null,
   "id": "64cee0f4",
   "metadata": {},
   "outputs": [],
   "source": [
    "# unzip downloaded data set\n",
    "!unzip train.csv.zip\n",
    "!unzip test.csv.zip"
   ]
  }
 ],
 "metadata": {
  "kernelspec": {
   "display_name": "Python 3 (ipykernel)",
   "language": "python",
   "name": "python3"
  },
  "language_info": {
   "codemirror_mode": {
    "name": "ipython",
    "version": 3
   },
   "file_extension": ".py",
   "mimetype": "text/x-python",
   "name": "python",
   "nbconvert_exporter": "python",
   "pygments_lexer": "ipython3",
   "version": "3.9.12"
  }
 },
 "nbformat": 4,
 "nbformat_minor": 5
}
